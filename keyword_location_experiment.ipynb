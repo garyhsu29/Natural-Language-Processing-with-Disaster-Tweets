{
  "cells": [
    {
      "cell_type": "markdown",
      "id": "fcaa9d2e",
      "metadata": {
        "id": "fcaa9d2e"
      },
      "source": [
        "### 0. Load the data:"
      ]
    },
    {
      "cell_type": "code",
      "execution_count": null,
      "id": "927fa2fe",
      "metadata": {
        "id": "927fa2fe"
      },
      "outputs": [],
      "source": [
        "import pandas as pd \n",
        "df = pd.read_csv('./data/train.csv')"
      ]
    },
    {
      "cell_type": "code",
      "execution_count": null,
      "id": "8d606169",
      "metadata": {
        "id": "8d606169",
        "outputId": "2a2259dd-8bf2-45c9-97bb-6b3dd3f80086"
      },
      "outputs": [
        {
          "data": {
            "text/html": [
              "<div>\n",
              "<style scoped>\n",
              "    .dataframe tbody tr th:only-of-type {\n",
              "        vertical-align: middle;\n",
              "    }\n",
              "\n",
              "    .dataframe tbody tr th {\n",
              "        vertical-align: top;\n",
              "    }\n",
              "\n",
              "    .dataframe thead th {\n",
              "        text-align: right;\n",
              "    }\n",
              "</style>\n",
              "<table border=\"1\" class=\"dataframe\">\n",
              "  <thead>\n",
              "    <tr style=\"text-align: right;\">\n",
              "      <th></th>\n",
              "      <th>id</th>\n",
              "      <th>keyword</th>\n",
              "      <th>location</th>\n",
              "      <th>text</th>\n",
              "      <th>target</th>\n",
              "    </tr>\n",
              "  </thead>\n",
              "  <tbody>\n",
              "    <tr>\n",
              "      <th>0</th>\n",
              "      <td>1</td>\n",
              "      <td>NaN</td>\n",
              "      <td>NaN</td>\n",
              "      <td>Our Deeds are the Reason of this #earthquake M...</td>\n",
              "      <td>1</td>\n",
              "    </tr>\n",
              "    <tr>\n",
              "      <th>1</th>\n",
              "      <td>4</td>\n",
              "      <td>NaN</td>\n",
              "      <td>NaN</td>\n",
              "      <td>Forest fire near La Ronge Sask. Canada</td>\n",
              "      <td>1</td>\n",
              "    </tr>\n",
              "    <tr>\n",
              "      <th>2</th>\n",
              "      <td>5</td>\n",
              "      <td>NaN</td>\n",
              "      <td>NaN</td>\n",
              "      <td>All residents asked to 'shelter in place' are ...</td>\n",
              "      <td>1</td>\n",
              "    </tr>\n",
              "    <tr>\n",
              "      <th>3</th>\n",
              "      <td>6</td>\n",
              "      <td>NaN</td>\n",
              "      <td>NaN</td>\n",
              "      <td>13,000 people receive #wildfires evacuation or...</td>\n",
              "      <td>1</td>\n",
              "    </tr>\n",
              "    <tr>\n",
              "      <th>4</th>\n",
              "      <td>7</td>\n",
              "      <td>NaN</td>\n",
              "      <td>NaN</td>\n",
              "      <td>Just got sent this photo from Ruby #Alaska as ...</td>\n",
              "      <td>1</td>\n",
              "    </tr>\n",
              "  </tbody>\n",
              "</table>\n",
              "</div>"
            ],
            "text/plain": [
              "   id keyword location                                               text  \\\n",
              "0   1     NaN      NaN  Our Deeds are the Reason of this #earthquake M...   \n",
              "1   4     NaN      NaN             Forest fire near La Ronge Sask. Canada   \n",
              "2   5     NaN      NaN  All residents asked to 'shelter in place' are ...   \n",
              "3   6     NaN      NaN  13,000 people receive #wildfires evacuation or...   \n",
              "4   7     NaN      NaN  Just got sent this photo from Ruby #Alaska as ...   \n",
              "\n",
              "   target  \n",
              "0       1  \n",
              "1       1  \n",
              "2       1  \n",
              "3       1  \n",
              "4       1  "
            ]
          },
          "execution_count": 110,
          "metadata": {},
          "output_type": "execute_result"
        }
      ],
      "source": [
        "df.head()"
      ]
    },
    {
      "cell_type": "code",
      "execution_count": null,
      "id": "5c5f51df",
      "metadata": {
        "id": "5c5f51df",
        "outputId": "04e85261-c0e5-49e3-ced5-c36c1228336e"
      },
      "outputs": [
        {
          "data": {
            "text/html": [
              "<div>\n",
              "<style scoped>\n",
              "    .dataframe tbody tr th:only-of-type {\n",
              "        vertical-align: middle;\n",
              "    }\n",
              "\n",
              "    .dataframe tbody tr th {\n",
              "        vertical-align: top;\n",
              "    }\n",
              "\n",
              "    .dataframe thead th {\n",
              "        text-align: right;\n",
              "    }\n",
              "</style>\n",
              "<table border=\"1\" class=\"dataframe\">\n",
              "  <thead>\n",
              "    <tr style=\"text-align: right;\">\n",
              "      <th></th>\n",
              "      <th>id</th>\n",
              "      <th>keyword</th>\n",
              "      <th>location</th>\n",
              "      <th>text</th>\n",
              "      <th>target</th>\n",
              "    </tr>\n",
              "  </thead>\n",
              "  <tbody>\n",
              "    <tr>\n",
              "      <th>7608</th>\n",
              "      <td>10869</td>\n",
              "      <td>NaN</td>\n",
              "      <td>NaN</td>\n",
              "      <td>Two giant cranes holding a bridge collapse int...</td>\n",
              "      <td>1</td>\n",
              "    </tr>\n",
              "    <tr>\n",
              "      <th>7609</th>\n",
              "      <td>10870</td>\n",
              "      <td>NaN</td>\n",
              "      <td>NaN</td>\n",
              "      <td>@aria_ahrary @TheTawniest The out of control w...</td>\n",
              "      <td>1</td>\n",
              "    </tr>\n",
              "    <tr>\n",
              "      <th>7610</th>\n",
              "      <td>10871</td>\n",
              "      <td>NaN</td>\n",
              "      <td>NaN</td>\n",
              "      <td>M1.94 [01:04 UTC]?5km S of Volcano Hawaii. htt...</td>\n",
              "      <td>1</td>\n",
              "    </tr>\n",
              "    <tr>\n",
              "      <th>7611</th>\n",
              "      <td>10872</td>\n",
              "      <td>NaN</td>\n",
              "      <td>NaN</td>\n",
              "      <td>Police investigating after an e-bike collided ...</td>\n",
              "      <td>1</td>\n",
              "    </tr>\n",
              "    <tr>\n",
              "      <th>7612</th>\n",
              "      <td>10873</td>\n",
              "      <td>NaN</td>\n",
              "      <td>NaN</td>\n",
              "      <td>The Latest: More Homes Razed by Northern Calif...</td>\n",
              "      <td>1</td>\n",
              "    </tr>\n",
              "  </tbody>\n",
              "</table>\n",
              "</div>"
            ],
            "text/plain": [
              "         id keyword location  \\\n",
              "7608  10869     NaN      NaN   \n",
              "7609  10870     NaN      NaN   \n",
              "7610  10871     NaN      NaN   \n",
              "7611  10872     NaN      NaN   \n",
              "7612  10873     NaN      NaN   \n",
              "\n",
              "                                                   text  target  \n",
              "7608  Two giant cranes holding a bridge collapse int...       1  \n",
              "7609  @aria_ahrary @TheTawniest The out of control w...       1  \n",
              "7610  M1.94 [01:04 UTC]?5km S of Volcano Hawaii. htt...       1  \n",
              "7611  Police investigating after an e-bike collided ...       1  \n",
              "7612  The Latest: More Homes Razed by Northern Calif...       1  "
            ]
          },
          "execution_count": 111,
          "metadata": {},
          "output_type": "execute_result"
        }
      ],
      "source": [
        "df.tail()"
      ]
    },
    {
      "cell_type": "code",
      "execution_count": null,
      "id": "6165681f",
      "metadata": {
        "id": "6165681f",
        "outputId": "6a23c06c-a66b-4749-cf20-b5804a313098"
      },
      "outputs": [
        {
          "name": "stdout",
          "output_type": "stream",
          "text": [
            "<class 'pandas.core.frame.DataFrame'>\n",
            "RangeIndex: 7613 entries, 0 to 7612\n",
            "Data columns (total 5 columns):\n",
            " #   Column    Non-Null Count  Dtype \n",
            "---  ------    --------------  ----- \n",
            " 0   id        7613 non-null   int64 \n",
            " 1   keyword   7552 non-null   object\n",
            " 2   location  5080 non-null   object\n",
            " 3   text      7613 non-null   object\n",
            " 4   target    7613 non-null   int64 \n",
            "dtypes: int64(2), object(3)\n",
            "memory usage: 297.5+ KB\n"
          ]
        }
      ],
      "source": [
        "df.info()"
      ]
    },
    {
      "cell_type": "markdown",
      "id": "c1b0424c",
      "metadata": {
        "id": "c1b0424c"
      },
      "source": [
        "#### 看看資料的label是不是balanced"
      ]
    },
    {
      "cell_type": "code",
      "execution_count": null,
      "id": "7426c360",
      "metadata": {
        "id": "7426c360",
        "outputId": "5037fbf7-d770-4904-bc74-49824d55c64d"
      },
      "outputs": [
        {
          "data": {
            "text/plain": [
              "Counter({1: 3271, 0: 4342})"
            ]
          },
          "execution_count": 113,
          "metadata": {},
          "output_type": "execute_result"
        }
      ],
      "source": [
        "from collections import Counter\n",
        "Counter(df.target)"
      ]
    },
    {
      "cell_type": "code",
      "execution_count": null,
      "id": "f8ec6d52",
      "metadata": {
        "collapsed": true,
        "jupyter": {
          "outputs_hidden": true
        },
        "id": "f8ec6d52",
        "outputId": "43d5a96d-3643-4c7a-9c24-584b21f1e125"
      },
      "outputs": [
        {
          "data": {
            "text/plain": [
              "[(nan, 61),\n",
              " ('fatalities', 45),\n",
              " ('armageddon', 42),\n",
              " ('deluge', 42),\n",
              " ('body%20bags', 41),\n",
              " ('damage', 41),\n",
              " ('harm', 41),\n",
              " ('sinking', 41),\n",
              " ('collided', 40),\n",
              " ('evacuate', 40),\n",
              " ('fear', 40),\n",
              " ('outbreak', 40),\n",
              " ('siren', 40),\n",
              " ('twister', 40),\n",
              " ('windstorm', 40),\n",
              " ('collision', 39),\n",
              " ('derailment', 39),\n",
              " ('earthquake', 39),\n",
              " ('explosion', 39),\n",
              " ('famine', 39),\n",
              " ('flames', 39),\n",
              " ('hellfire', 39),\n",
              " ('sinkhole', 39),\n",
              " ('sunk', 39),\n",
              " ('weapon', 39),\n",
              " ('weapons', 39),\n",
              " ('whirlwind', 39),\n",
              " ('wreckage', 39),\n",
              " ('wrecked', 39),\n",
              " ('ambulance', 38),\n",
              " ('blaze', 38),\n",
              " ('bombed', 38),\n",
              " ('deaths', 38),\n",
              " ('derailed', 38),\n",
              " ('drowned', 38),\n",
              " ('explode', 38),\n",
              " ('fatal', 38),\n",
              " ('fire', 38),\n",
              " ('flooding', 38),\n",
              " ('hurricane', 38),\n",
              " ('injury', 38),\n",
              " ('oil%20spill', 38),\n",
              " ('thunder', 38),\n",
              " ('typhoon', 38),\n",
              " ('upheaval', 38),\n",
              " ('bioterror', 37),\n",
              " ('blizzard', 37),\n",
              " ('burning%20buildings', 37),\n",
              " ('crush', 37),\n",
              " ('curfew', 37),\n",
              " ('debris', 37),\n",
              " ('destroy', 37),\n",
              " ('emergency', 37),\n",
              " ('fatality', 37),\n",
              " ('hostages', 37),\n",
              " ('mudslide', 37),\n",
              " ('pandemonium', 37),\n",
              " ('panic', 37),\n",
              " ('police', 37),\n",
              " ('quarantined', 37),\n",
              " ('ruin', 37),\n",
              " ('sandstorm', 37),\n",
              " ('wounded', 37),\n",
              " ('wreck', 37),\n",
              " ('ablaze', 36),\n",
              " ('attack', 36),\n",
              " ('catastrophe', 36),\n",
              " ('cliff%20fall', 36),\n",
              " ('danger', 36),\n",
              " ('death', 36),\n",
              " ('desolation', 36),\n",
              " ('detonate', 36),\n",
              " ('devastation', 36),\n",
              " ('displaced', 36),\n",
              " ('dust%20storm', 36),\n",
              " ('engulfed', 36),\n",
              " ('evacuated', 36),\n",
              " ('evacuation', 36),\n",
              " ('floods', 36),\n",
              " ('massacre', 36),\n",
              " ('nuclear%20reactor', 36),\n",
              " ('refugees', 36),\n",
              " ('screaming', 36),\n",
              " ('tragedy', 36),\n",
              " ('accident', 35),\n",
              " ('airplane%20accident', 35),\n",
              " ('attacked', 35),\n",
              " ('bleeding', 35),\n",
              " ('blood', 35),\n",
              " ('bloody', 35),\n",
              " ('bridge%20collapse', 35),\n",
              " ('buildings%20burning', 35),\n",
              " ('casualties', 35),\n",
              " ('collapsed', 35),\n",
              " ('demolition', 35),\n",
              " ('derail', 35),\n",
              " ('disaster', 35),\n",
              " ('drought', 35),\n",
              " ('emergency%20plan', 35),\n",
              " ('flood', 35),\n",
              " ('hail', 35),\n",
              " ('hazardous', 35),\n",
              " ('hijacker', 35),\n",
              " ('injured', 35),\n",
              " ('inundated', 35),\n",
              " ('razed', 35),\n",
              " ('rescued', 35),\n",
              " ('rescuers', 35),\n",
              " ('rioting', 35),\n",
              " ('screams', 35),\n",
              " ('storm', 35),\n",
              " ('structural%20failure', 35),\n",
              " ('suicide%20bomb', 35),\n",
              " ('tornado', 35),\n",
              " ('traumatised', 35),\n",
              " ('aftershock', 34),\n",
              " ('annihilated', 34),\n",
              " ('army', 34),\n",
              " ('arsonist', 34),\n",
              " ('blazing', 34),\n",
              " ('bomb', 34),\n",
              " ('burning', 34),\n",
              " ('casualty', 34),\n",
              " ('collapse', 34),\n",
              " ('collide', 34),\n",
              " ('crashed', 34),\n",
              " ('demolish', 34),\n",
              " ('destruction', 34),\n",
              " ('drowning', 34),\n",
              " ('electrocuted', 34),\n",
              " ('flattened', 34),\n",
              " ('hazard', 34),\n",
              " ('heat%20wave', 34),\n",
              " ('lava', 34),\n",
              " ('loud%20bang', 34),\n",
              " ('military', 34),\n",
              " ('natural%20disaster', 34),\n",
              " ('nuclear%20disaster', 34),\n",
              " ('quarantine', 34),\n",
              " ('rainstorm', 34),\n",
              " ('riot', 34),\n",
              " ('screamed', 34),\n",
              " ('smoke', 34),\n",
              " ('terrorism', 34),\n",
              " ('tsunami', 34),\n",
              " ('blew%20up', 33),\n",
              " ('blown%20up', 33),\n",
              " ('body%20bag', 33),\n",
              " ('body%20bagging', 33),\n",
              " ('buildings%20on%20fire', 33),\n",
              " ('burned', 33),\n",
              " ('chemical%20emergency', 33),\n",
              " ('crash', 33),\n",
              " ('emergency%20services', 33),\n",
              " ('exploded', 33),\n",
              " ('fire%20truck', 33),\n",
              " ('hijack', 33),\n",
              " ('injuries', 33),\n",
              " ('landslide', 33),\n",
              " ('lightning', 33),\n",
              " ('mass%20murder', 33),\n",
              " ('meltdown', 33),\n",
              " ('panicking', 33),\n",
              " ('stretcher', 33),\n",
              " ('suicide%20bombing', 33),\n",
              " ('survived', 33),\n",
              " ('thunderstorm', 33),\n",
              " ('trouble', 33),\n",
              " ('violent%20storm', 33),\n",
              " ('wildfire', 33),\n",
              " ('wounds', 33),\n",
              " ('apocalypse', 32),\n",
              " ('arson', 32),\n",
              " ('blight', 32),\n",
              " ('cyclone', 32),\n",
              " ('destroyed', 32),\n",
              " ('detonation', 32),\n",
              " ('drown', 32),\n",
              " ('electrocute', 32),\n",
              " ('eyewitness', 32),\n",
              " ('forest%20fires', 32),\n",
              " ('hailstorm', 32),\n",
              " ('hijacking', 32),\n",
              " ('mass%20murderer', 32),\n",
              " ('survive', 32),\n",
              " ('trapped', 32),\n",
              " ('crushed', 31),\n",
              " ('devastated', 31),\n",
              " ('hostage', 31),\n",
              " ('obliterate', 31),\n",
              " ('obliterated', 31),\n",
              " ('suicide%20bomber', 31),\n",
              " ('terrorist', 31),\n",
              " ('trauma', 31),\n",
              " ('wild%20fires', 31),\n",
              " ('avalanche', 30),\n",
              " ('bioterrorism', 30),\n",
              " ('catastrophic', 30),\n",
              " ('dead', 30),\n",
              " ('mayhem', 30)]"
            ]
          },
          "execution_count": 114,
          "metadata": {},
          "output_type": "execute_result"
        }
      ],
      "source": [
        "Counter(df[\"keyword\"]).most_common(200)"
      ]
    },
    {
      "cell_type": "code",
      "execution_count": null,
      "id": "f0988b8d",
      "metadata": {
        "id": "f0988b8d",
        "outputId": "8773765d-d1d1-4d71-b9ed-18a03b2e004d"
      },
      "outputs": [
        {
          "data": {
            "text/plain": [
              "[(nan, 2533),\n",
              " ('USA', 104),\n",
              " ('New York', 71),\n",
              " ('United States', 50),\n",
              " ('London', 45),\n",
              " ('Canada', 29),\n",
              " ('Nigeria', 28),\n",
              " ('UK', 27),\n",
              " ('Los Angeles, CA', 26),\n",
              " ('India', 24)]"
            ]
          },
          "execution_count": 96,
          "metadata": {},
          "output_type": "execute_result"
        }
      ],
      "source": [
        "Counter(df[\"location\"]).most_common(10)"
      ]
    },
    {
      "cell_type": "code",
      "execution_count": null,
      "id": "8e194768",
      "metadata": {
        "id": "8e194768",
        "outputId": "0db17e60-57d7-45d9-d770-a5bf04be8ede"
      },
      "outputs": [
        {
          "data": {
            "text/plain": [
              "'Los Angeles'"
            ]
          },
          "execution_count": 97,
          "metadata": {},
          "output_type": "execute_result"
        }
      ],
      "source": [
        "comma_pattern.search('Los Angeles, CA').group(1)"
      ]
    },
    {
      "cell_type": "code",
      "execution_count": null,
      "id": "2c87c494",
      "metadata": {
        "id": "2c87c494"
      },
      "outputs": [],
      "source": [
        "df = df.fillna('')"
      ]
    },
    {
      "cell_type": "markdown",
      "source": [
        "### 1. Data preprocessing"
      ],
      "metadata": {
        "id": "GqaE4LlwmA0S"
      },
      "id": "GqaE4LlwmA0S"
    },
    {
      "cell_type": "code",
      "execution_count": null,
      "id": "c39556ce",
      "metadata": {
        "id": "c39556ce"
      },
      "outputs": [],
      "source": [
        "import spacy\n",
        "nlp = spacy.load('en_core_web_md')"
      ]
    },
    {
      "cell_type": "code",
      "execution_count": null,
      "id": "7b7b1dd5",
      "metadata": {
        "id": "7b7b1dd5"
      },
      "outputs": [],
      "source": [
        "import re\n",
        "comma_pattern = re.compile(r\"(.+?)\\,\\s*(.+)$\")\n",
        "df[\"keyword\"] = df[\"keyword\"].apply(lambda x: x.replace('%20', ' '))\n",
        "df[\"keyword_lemma\"] = df[\"keyword\"].apply(lambda x: ' '.join([token.lemma_ for token in nlp(x)]))\n",
        "df[\"location_prefix\"] = df[\"location\"].apply(lambda x:  comma_pattern.search(x).group(1).strip() if comma_pattern.search(x) else x.strip())\n",
        "df[\"location_lower_without_space\"] = df[\"location_prefix\"].apply(lambda x: x.replace(' ', '').lower())"
      ]
    },
    {
      "cell_type": "code",
      "execution_count": null,
      "id": "1a33d880",
      "metadata": {
        "collapsed": true,
        "jupyter": {
          "outputs_hidden": true
        },
        "id": "1a33d880",
        "outputId": "358f9546-af2a-4dad-d2d6-edec62e93320"
      },
      "outputs": [
        {
          "data": {
            "text/plain": [
              "Counter({'': 61,\n",
              "         'ablaze': 36,\n",
              "         'accident': 35,\n",
              "         'aftershock': 34,\n",
              "         'airplane accident': 35,\n",
              "         'ambulance': 38,\n",
              "         'annihilated': 34,\n",
              "         'annihilation': 29,\n",
              "         'apocalypse': 32,\n",
              "         'armageddon': 42,\n",
              "         'army': 34,\n",
              "         'arson': 32,\n",
              "         'arsonist': 34,\n",
              "         'attack': 36,\n",
              "         'attacked': 35,\n",
              "         'avalanche': 30,\n",
              "         'battle': 26,\n",
              "         'bioterror': 37,\n",
              "         'bioterrorism': 30,\n",
              "         'blaze': 38,\n",
              "         'blazing': 34,\n",
              "         'bleeding': 35,\n",
              "         'blew up': 33,\n",
              "         'blight': 32,\n",
              "         'blizzard': 37,\n",
              "         'blood': 35,\n",
              "         'bloody': 35,\n",
              "         'blown up': 33,\n",
              "         'body bag': 33,\n",
              "         'body bagging': 33,\n",
              "         'body bags': 41,\n",
              "         'bomb': 34,\n",
              "         'bombed': 38,\n",
              "         'bombing': 29,\n",
              "         'bridge collapse': 35,\n",
              "         'buildings burning': 35,\n",
              "         'buildings on fire': 33,\n",
              "         'burned': 33,\n",
              "         'burning': 34,\n",
              "         'burning buildings': 37,\n",
              "         'bush fires': 25,\n",
              "         'casualties': 35,\n",
              "         'casualty': 34,\n",
              "         'catastrophe': 36,\n",
              "         'catastrophic': 30,\n",
              "         'chemical emergency': 33,\n",
              "         'cliff fall': 36,\n",
              "         'collapse': 34,\n",
              "         'collapsed': 35,\n",
              "         'collide': 34,\n",
              "         'collided': 40,\n",
              "         'collision': 39,\n",
              "         'crash': 33,\n",
              "         'crashed': 34,\n",
              "         'crush': 37,\n",
              "         'crushed': 31,\n",
              "         'curfew': 37,\n",
              "         'cyclone': 32,\n",
              "         'damage': 41,\n",
              "         'danger': 36,\n",
              "         'dead': 30,\n",
              "         'death': 36,\n",
              "         'deaths': 38,\n",
              "         'debris': 37,\n",
              "         'deluge': 42,\n",
              "         'deluged': 27,\n",
              "         'demolish': 34,\n",
              "         'demolished': 28,\n",
              "         'demolition': 35,\n",
              "         'derail': 35,\n",
              "         'derailed': 38,\n",
              "         'derailment': 39,\n",
              "         'desolate': 29,\n",
              "         'desolation': 36,\n",
              "         'destroy': 37,\n",
              "         'destroyed': 32,\n",
              "         'destruction': 34,\n",
              "         'detonate': 36,\n",
              "         'detonation': 32,\n",
              "         'devastated': 31,\n",
              "         'devastation': 36,\n",
              "         'disaster': 35,\n",
              "         'displaced': 36,\n",
              "         'drought': 35,\n",
              "         'drown': 32,\n",
              "         'drowned': 38,\n",
              "         'drowning': 34,\n",
              "         'dust storm': 36,\n",
              "         'earthquake': 39,\n",
              "         'electrocute': 32,\n",
              "         'electrocuted': 34,\n",
              "         'emergency': 37,\n",
              "         'emergency plan': 35,\n",
              "         'emergency services': 33,\n",
              "         'engulfed': 36,\n",
              "         'epicentre': 12,\n",
              "         'evacuate': 40,\n",
              "         'evacuated': 36,\n",
              "         'evacuation': 36,\n",
              "         'explode': 38,\n",
              "         'exploded': 33,\n",
              "         'explosion': 39,\n",
              "         'eyewitness': 32,\n",
              "         'famine': 39,\n",
              "         'fatal': 38,\n",
              "         'fatalities': 45,\n",
              "         'fatality': 37,\n",
              "         'fear': 40,\n",
              "         'fire': 38,\n",
              "         'fire truck': 33,\n",
              "         'first responders': 29,\n",
              "         'flames': 39,\n",
              "         'flattened': 34,\n",
              "         'flood': 35,\n",
              "         'flooding': 38,\n",
              "         'floods': 36,\n",
              "         'forest fire': 19,\n",
              "         'forest fires': 32,\n",
              "         'hail': 35,\n",
              "         'hailstorm': 32,\n",
              "         'harm': 41,\n",
              "         'hazard': 34,\n",
              "         'hazardous': 35,\n",
              "         'heat wave': 34,\n",
              "         'hellfire': 39,\n",
              "         'hijack': 33,\n",
              "         'hijacker': 35,\n",
              "         'hijacking': 32,\n",
              "         'hostage': 31,\n",
              "         'hostages': 37,\n",
              "         'hurricane': 38,\n",
              "         'injured': 35,\n",
              "         'injuries': 33,\n",
              "         'injury': 38,\n",
              "         'inundated': 35,\n",
              "         'inundation': 10,\n",
              "         'landslide': 33,\n",
              "         'lava': 34,\n",
              "         'lightning': 33,\n",
              "         'loud bang': 34,\n",
              "         'mass murder': 33,\n",
              "         'mass murderer': 32,\n",
              "         'massacre': 36,\n",
              "         'mayhem': 30,\n",
              "         'meltdown': 33,\n",
              "         'military': 34,\n",
              "         'mudslide': 37,\n",
              "         'natural disaster': 34,\n",
              "         'nuclear disaster': 34,\n",
              "         'nuclear reactor': 36,\n",
              "         'obliterate': 31,\n",
              "         'obliterated': 31,\n",
              "         'obliteration': 29,\n",
              "         'oil spill': 38,\n",
              "         'outbreak': 40,\n",
              "         'pandemonium': 37,\n",
              "         'panic': 37,\n",
              "         'panicking': 33,\n",
              "         'police': 37,\n",
              "         'quarantine': 34,\n",
              "         'quarantined': 37,\n",
              "         'radiation emergency': 9,\n",
              "         'rainstorm': 34,\n",
              "         'razed': 35,\n",
              "         'refugees': 36,\n",
              "         'rescue': 22,\n",
              "         'rescued': 35,\n",
              "         'rescuers': 35,\n",
              "         'riot': 34,\n",
              "         'rioting': 35,\n",
              "         'rubble': 28,\n",
              "         'ruin': 37,\n",
              "         'sandstorm': 37,\n",
              "         'screamed': 34,\n",
              "         'screaming': 36,\n",
              "         'screams': 35,\n",
              "         'seismic': 29,\n",
              "         'sinkhole': 39,\n",
              "         'sinking': 41,\n",
              "         'siren': 40,\n",
              "         'sirens': 29,\n",
              "         'smoke': 34,\n",
              "         'snowstorm': 29,\n",
              "         'storm': 35,\n",
              "         'stretcher': 33,\n",
              "         'structural failure': 35,\n",
              "         'suicide bomb': 35,\n",
              "         'suicide bomber': 31,\n",
              "         'suicide bombing': 33,\n",
              "         'sunk': 39,\n",
              "         'survive': 32,\n",
              "         'survived': 33,\n",
              "         'survivors': 30,\n",
              "         'terrorism': 34,\n",
              "         'terrorist': 31,\n",
              "         'threat': 11,\n",
              "         'thunder': 38,\n",
              "         'thunderstorm': 33,\n",
              "         'tornado': 35,\n",
              "         'tragedy': 36,\n",
              "         'trapped': 32,\n",
              "         'trauma': 31,\n",
              "         'traumatised': 35,\n",
              "         'trouble': 33,\n",
              "         'tsunami': 34,\n",
              "         'twister': 40,\n",
              "         'typhoon': 38,\n",
              "         'upheaval': 38,\n",
              "         'violent storm': 33,\n",
              "         'volcano': 27,\n",
              "         'war zone': 24,\n",
              "         'weapon': 39,\n",
              "         'weapons': 39,\n",
              "         'whirlwind': 39,\n",
              "         'wild fires': 31,\n",
              "         'wildfire': 33,\n",
              "         'windstorm': 40,\n",
              "         'wounded': 37,\n",
              "         'wounds': 33,\n",
              "         'wreck': 37,\n",
              "         'wreckage': 39,\n",
              "         'wrecked': 39})"
            ]
          },
          "execution_count": 101,
          "metadata": {},
          "output_type": "execute_result"
        }
      ],
      "source": [
        "Counter(df[\"keyword\"])"
      ]
    },
    {
      "cell_type": "code",
      "execution_count": null,
      "id": "e010401e",
      "metadata": {
        "collapsed": true,
        "jupyter": {
          "outputs_hidden": true
        },
        "id": "e010401e",
        "outputId": "cc93d7ae-7c60-4528-b2ae-742c74b865d3"
      },
      "outputs": [
        {
          "data": {
            "text/plain": [
              "Counter({'': 61,\n",
              "         'ablaze': 36,\n",
              "         'accident': 35,\n",
              "         'aftershock': 34,\n",
              "         'airplane accident': 35,\n",
              "         'ambulance': 38,\n",
              "         'annihilate': 34,\n",
              "         'annihilation': 29,\n",
              "         'apocalypse': 32,\n",
              "         'armageddon': 42,\n",
              "         'army': 34,\n",
              "         'arson': 32,\n",
              "         'arsonist': 34,\n",
              "         'attack': 71,\n",
              "         'avalanche': 30,\n",
              "         'battle': 26,\n",
              "         'bioterror': 37,\n",
              "         'bioterrorism': 30,\n",
              "         'blaze': 72,\n",
              "         'bleed': 35,\n",
              "         'blow up': 66,\n",
              "         'blight': 32,\n",
              "         'blizzard': 37,\n",
              "         'blood': 35,\n",
              "         'bloody': 35,\n",
              "         'body bag': 107,\n",
              "         'bomb': 101,\n",
              "         'bridge collapse': 35,\n",
              "         'building burn': 35,\n",
              "         'building on fire': 33,\n",
              "         'burn': 67,\n",
              "         'burn building': 37,\n",
              "         'bush fire': 25,\n",
              "         'casualty': 69,\n",
              "         'catastrophe': 36,\n",
              "         'catastrophic': 30,\n",
              "         'chemical emergency': 33,\n",
              "         'cliff fall': 36,\n",
              "         'collapse': 69,\n",
              "         'collide': 74,\n",
              "         'collision': 39,\n",
              "         'crash': 67,\n",
              "         'crush': 68,\n",
              "         'curfew': 37,\n",
              "         'cyclone': 32,\n",
              "         'damage': 41,\n",
              "         'danger': 36,\n",
              "         'dead': 30,\n",
              "         'death': 74,\n",
              "         'debris': 37,\n",
              "         'deluge': 69,\n",
              "         'demolish': 62,\n",
              "         'demolition': 35,\n",
              "         'derail': 73,\n",
              "         'derailment': 39,\n",
              "         'desolate': 29,\n",
              "         'desolation': 36,\n",
              "         'destroy': 69,\n",
              "         'destruction': 34,\n",
              "         'detonate': 36,\n",
              "         'detonation': 32,\n",
              "         'devastate': 31,\n",
              "         'devastation': 36,\n",
              "         'disaster': 35,\n",
              "         'displace': 36,\n",
              "         'drought': 35,\n",
              "         'drown': 104,\n",
              "         'dust storm': 36,\n",
              "         'earthquake': 39,\n",
              "         'electrocute': 66,\n",
              "         'emergency': 37,\n",
              "         'emergency plan': 35,\n",
              "         'emergency service': 33,\n",
              "         'engulf': 36,\n",
              "         'epicentre': 12,\n",
              "         'evacuate': 76,\n",
              "         'evacuation': 36,\n",
              "         'explode': 71,\n",
              "         'explosion': 39,\n",
              "         'eyewitness': 32,\n",
              "         'famine': 39,\n",
              "         'fatal': 38,\n",
              "         'fatality': 82,\n",
              "         'fear': 40,\n",
              "         'fire': 38,\n",
              "         'fire truck': 33,\n",
              "         'first responder': 29,\n",
              "         'flame': 39,\n",
              "         'flatten': 34,\n",
              "         'flood': 109,\n",
              "         'forest fire': 51,\n",
              "         'hail': 35,\n",
              "         'hailstorm': 32,\n",
              "         'harm': 41,\n",
              "         'hazard': 34,\n",
              "         'hazardous': 35,\n",
              "         'heat wave': 34,\n",
              "         'hellfire': 39,\n",
              "         'hijack': 65,\n",
              "         'hijacker': 35,\n",
              "         'hostage': 68,\n",
              "         'hurricane': 38,\n",
              "         'injure': 35,\n",
              "         'injury': 71,\n",
              "         'inundate': 35,\n",
              "         'inundation': 10,\n",
              "         'landslide': 33,\n",
              "         'lava': 34,\n",
              "         'lightning': 33,\n",
              "         'loud bang': 34,\n",
              "         'mass murder': 33,\n",
              "         'mass murderer': 32,\n",
              "         'massacre': 36,\n",
              "         'mayhem': 30,\n",
              "         'meltdown': 33,\n",
              "         'military': 34,\n",
              "         'mudslide': 37,\n",
              "         'natural disaster': 34,\n",
              "         'nuclear disaster': 34,\n",
              "         'nuclear reactor': 36,\n",
              "         'obliterate': 62,\n",
              "         'obliteration': 29,\n",
              "         'oil spill': 38,\n",
              "         'outbreak': 40,\n",
              "         'pandemonium': 37,\n",
              "         'panic': 70,\n",
              "         'police': 37,\n",
              "         'quarantine': 71,\n",
              "         'radiation emergency': 9,\n",
              "         'rainstorm': 34,\n",
              "         'raze': 35,\n",
              "         'refugee': 36,\n",
              "         'rescue': 57,\n",
              "         'rescuer': 35,\n",
              "         'riot': 69,\n",
              "         'rubble': 28,\n",
              "         'ruin': 37,\n",
              "         'sandstorm': 37,\n",
              "         'scream': 105,\n",
              "         'seismic': 29,\n",
              "         'sinkhole': 39,\n",
              "         'sink': 80,\n",
              "         'siren': 69,\n",
              "         'smoke': 34,\n",
              "         'snowstorm': 29,\n",
              "         'storm': 35,\n",
              "         'stretcher': 33,\n",
              "         'structural failure': 35,\n",
              "         'suicide bomb': 35,\n",
              "         'suicide bomber': 31,\n",
              "         'suicide bombing': 33,\n",
              "         'survive': 65,\n",
              "         'survivor': 30,\n",
              "         'terrorism': 34,\n",
              "         'terrorist': 31,\n",
              "         'threat': 11,\n",
              "         'thunder': 38,\n",
              "         'thunderstorm': 33,\n",
              "         'tornado': 35,\n",
              "         'tragedy': 36,\n",
              "         'trap': 32,\n",
              "         'trauma': 31,\n",
              "         'traumatise': 35,\n",
              "         'trouble': 33,\n",
              "         'tsunami': 34,\n",
              "         'twister': 40,\n",
              "         'typhoon': 38,\n",
              "         'upheaval': 38,\n",
              "         'violent storm': 33,\n",
              "         'volcano': 27,\n",
              "         'war zone': 24,\n",
              "         'weapon': 78,\n",
              "         'whirlwind': 39,\n",
              "         'wild fire': 31,\n",
              "         'wildfire': 33,\n",
              "         'windstorm': 40,\n",
              "         'wound': 70,\n",
              "         'wreck': 76,\n",
              "         'wreckage': 39})"
            ]
          },
          "execution_count": 102,
          "metadata": {},
          "output_type": "execute_result"
        }
      ],
      "source": [
        "Counter(df[\"keyword_lemma\"])"
      ]
    },
    {
      "cell_type": "code",
      "execution_count": null,
      "id": "92c311bb",
      "metadata": {
        "id": "92c311bb",
        "outputId": "0f96cd7e-4782-44c2-94cc-5b3a2f317b49"
      },
      "outputs": [
        {
          "data": {
            "text/html": [
              "<div>\n",
              "<style scoped>\n",
              "    .dataframe tbody tr th:only-of-type {\n",
              "        vertical-align: middle;\n",
              "    }\n",
              "\n",
              "    .dataframe tbody tr th {\n",
              "        vertical-align: top;\n",
              "    }\n",
              "\n",
              "    .dataframe thead th {\n",
              "        text-align: right;\n",
              "    }\n",
              "</style>\n",
              "<table border=\"1\" class=\"dataframe\">\n",
              "  <thead>\n",
              "    <tr style=\"text-align: right;\">\n",
              "      <th></th>\n",
              "      <th>location</th>\n",
              "      <th>location_lower_without_space</th>\n",
              "    </tr>\n",
              "  </thead>\n",
              "  <tbody>\n",
              "    <tr>\n",
              "      <th>7266</th>\n",
              "      <td>World</td>\n",
              "      <td>world</td>\n",
              "    </tr>\n",
              "    <tr>\n",
              "      <th>3388</th>\n",
              "      <td>Tri-Cities, Wash.</td>\n",
              "      <td>tri-cities</td>\n",
              "    </tr>\n",
              "    <tr>\n",
              "      <th>3084</th>\n",
              "      <td>Michigan</td>\n",
              "      <td>michigan</td>\n",
              "    </tr>\n",
              "    <tr>\n",
              "      <th>2745</th>\n",
              "      <td>Columbus</td>\n",
              "      <td>columbus</td>\n",
              "    </tr>\n",
              "    <tr>\n",
              "      <th>772</th>\n",
              "      <td>Brooklyn, NY</td>\n",
              "      <td>brooklyn</td>\n",
              "    </tr>\n",
              "    <tr>\n",
              "      <th>4539</th>\n",
              "      <td>Worldwide</td>\n",
              "      <td>worldwide</td>\n",
              "    </tr>\n",
              "    <tr>\n",
              "      <th>3536</th>\n",
              "      <td>Orlando, Fl</td>\n",
              "      <td>orlando</td>\n",
              "    </tr>\n",
              "    <tr>\n",
              "      <th>921</th>\n",
              "      <td>Oklahoma</td>\n",
              "      <td>oklahoma</td>\n",
              "    </tr>\n",
              "    <tr>\n",
              "      <th>3400</th>\n",
              "      <td>London / Berlin / Online</td>\n",
              "      <td>london/berlin/online</td>\n",
              "    </tr>\n",
              "    <tr>\n",
              "      <th>6536</th>\n",
              "      <td>Auburn</td>\n",
              "      <td>auburn</td>\n",
              "    </tr>\n",
              "    <tr>\n",
              "      <th>260</th>\n",
              "      <td>Republic of Texas</td>\n",
              "      <td>republicoftexas</td>\n",
              "    </tr>\n",
              "    <tr>\n",
              "      <th>6555</th>\n",
              "      <td>Glasgow</td>\n",
              "      <td>glasgow</td>\n",
              "    </tr>\n",
              "    <tr>\n",
              "      <th>5225</th>\n",
              "      <td>828/704(Soufside)/while looking goofy in NJ</td>\n",
              "      <td>828/704(soufside)/whilelookinggoofyinnj</td>\n",
              "    </tr>\n",
              "    <tr>\n",
              "      <th>3494</th>\n",
              "      <td>New York</td>\n",
              "      <td>newyork</td>\n",
              "    </tr>\n",
              "    <tr>\n",
              "      <th>2152</th>\n",
              "      <td>the void, U.S.A</td>\n",
              "      <td>thevoid</td>\n",
              "    </tr>\n",
              "    <tr>\n",
              "      <th>330</th>\n",
              "      <td>California</td>\n",
              "      <td>california</td>\n",
              "    </tr>\n",
              "    <tr>\n",
              "      <th>5757</th>\n",
              "      <td>Los Angeles, CA</td>\n",
              "      <td>losangeles</td>\n",
              "    </tr>\n",
              "    <tr>\n",
              "      <th>6172</th>\n",
              "      <td>they/them</td>\n",
              "      <td>they/them</td>\n",
              "    </tr>\n",
              "    <tr>\n",
              "      <th>5299</th>\n",
              "      <td>Los Angeles, CA</td>\n",
              "      <td>losangeles</td>\n",
              "    </tr>\n",
              "    <tr>\n",
              "      <th>3179</th>\n",
              "      <td>Nagpur</td>\n",
              "      <td>nagpur</td>\n",
              "    </tr>\n",
              "    <tr>\n",
              "      <th>6250</th>\n",
              "      <td>Neath, South Wales</td>\n",
              "      <td>neath</td>\n",
              "    </tr>\n",
              "    <tr>\n",
              "      <th>1207</th>\n",
              "      <td>Ziam af</td>\n",
              "      <td>ziamaf</td>\n",
              "    </tr>\n",
              "    <tr>\n",
              "      <th>1509</th>\n",
              "      <td>New York, NY</td>\n",
              "      <td>newyork</td>\n",
              "    </tr>\n",
              "    <tr>\n",
              "      <th>7287</th>\n",
              "      <td>NEPA/570</td>\n",
              "      <td>nepa/570</td>\n",
              "    </tr>\n",
              "    <tr>\n",
              "      <th>2834</th>\n",
              "      <td>San Francisco</td>\n",
              "      <td>sanfrancisco</td>\n",
              "    </tr>\n",
              "    <tr>\n",
              "      <th>4311</th>\n",
              "      <td>Denver, Colorado</td>\n",
              "      <td>denver</td>\n",
              "    </tr>\n",
              "    <tr>\n",
              "      <th>4625</th>\n",
              "      <td>Louisiana</td>\n",
              "      <td>louisiana</td>\n",
              "    </tr>\n",
              "    <tr>\n",
              "      <th>7036</th>\n",
              "      <td>Santiago,RepÌ¼blica Dominicana</td>\n",
              "      <td>santiago</td>\n",
              "    </tr>\n",
              "    <tr>\n",
              "      <th>997</th>\n",
              "      <td>Cloud 9</td>\n",
              "      <td>cloud9</td>\n",
              "    </tr>\n",
              "    <tr>\n",
              "      <th>2356</th>\n",
              "      <td>Funtua, Nigeria</td>\n",
              "      <td>funtua</td>\n",
              "    </tr>\n",
              "    <tr>\n",
              "      <th>5163</th>\n",
              "      <td>EIC</td>\n",
              "      <td>eic</td>\n",
              "    </tr>\n",
              "    <tr>\n",
              "      <th>7189</th>\n",
              "      <td>Halifax, NS, Canada</td>\n",
              "      <td>halifax</td>\n",
              "    </tr>\n",
              "    <tr>\n",
              "      <th>2156</th>\n",
              "      <td>Blackpool</td>\n",
              "      <td>blackpool</td>\n",
              "    </tr>\n",
              "    <tr>\n",
              "      <th>4398</th>\n",
              "      <td>Athens,Greece</td>\n",
              "      <td>athens</td>\n",
              "    </tr>\n",
              "    <tr>\n",
              "      <th>2649</th>\n",
              "      <td>Paname City</td>\n",
              "      <td>panamecity</td>\n",
              "    </tr>\n",
              "    <tr>\n",
              "      <th>2420</th>\n",
              "      <td>Washington DC / Nantes, France</td>\n",
              "      <td>washingtondc/nantes</td>\n",
              "    </tr>\n",
              "    <tr>\n",
              "      <th>344</th>\n",
              "      <td>#FLIGHTCITY UK</td>\n",
              "      <td>#flightcityuk</td>\n",
              "    </tr>\n",
              "    <tr>\n",
              "      <th>3568</th>\n",
              "      <td>Tampa, FL</td>\n",
              "      <td>tampa</td>\n",
              "    </tr>\n",
              "    <tr>\n",
              "      <th>7032</th>\n",
              "      <td>Unites States</td>\n",
              "      <td>unitesstates</td>\n",
              "    </tr>\n",
              "    <tr>\n",
              "      <th>5140</th>\n",
              "      <td>Warsaw</td>\n",
              "      <td>warsaw</td>\n",
              "    </tr>\n",
              "    <tr>\n",
              "      <th>6848</th>\n",
              "      <td>LOCAL ATLANTA NEWS 4/28/00 - 4/28/15 FREELANCER</td>\n",
              "      <td>localatlantanews4/28/00-4/28/15freelancer</td>\n",
              "    </tr>\n",
              "    <tr>\n",
              "      <th>2677</th>\n",
              "      <td>New York, NY</td>\n",
              "      <td>newyork</td>\n",
              "    </tr>\n",
              "    <tr>\n",
              "      <th>67</th>\n",
              "      <td>CLVLND</td>\n",
              "      <td>clvlnd</td>\n",
              "    </tr>\n",
              "    <tr>\n",
              "      <th>4430</th>\n",
              "      <td>Roaming around the world</td>\n",
              "      <td>roamingaroundtheworld</td>\n",
              "    </tr>\n",
              "    <tr>\n",
              "      <th>7168</th>\n",
              "      <td>We're All Mad Here</td>\n",
              "      <td>we'reallmadhere</td>\n",
              "    </tr>\n",
              "    <tr>\n",
              "      <th>2650</th>\n",
              "      <td>Winston-Salem, NC</td>\n",
              "      <td>winston-salem</td>\n",
              "    </tr>\n",
              "    <tr>\n",
              "      <th>886</th>\n",
              "      <td>Malaysia</td>\n",
              "      <td>malaysia</td>\n",
              "    </tr>\n",
              "    <tr>\n",
              "      <th>4883</th>\n",
              "      <td>St. Louis, Mo</td>\n",
              "      <td>st.louis</td>\n",
              "    </tr>\n",
              "    <tr>\n",
              "      <th>2299</th>\n",
              "      <td>NYHC</td>\n",
              "      <td>nyhc</td>\n",
              "    </tr>\n",
              "    <tr>\n",
              "      <th>413</th>\n",
              "      <td>Atlanta</td>\n",
              "      <td>atlanta</td>\n",
              "    </tr>\n",
              "  </tbody>\n",
              "</table>\n",
              "</div>"
            ],
            "text/plain": [
              "                                             location  \\\n",
              "7266                                            World   \n",
              "3388                                Tri-Cities, Wash.   \n",
              "3084                                        Michigan    \n",
              "2745                                         Columbus   \n",
              "772                                      Brooklyn, NY   \n",
              "4539                                        Worldwide   \n",
              "3536                                      Orlando, Fl   \n",
              "921                                          Oklahoma   \n",
              "3400                         London / Berlin / Online   \n",
              "6536                                          Auburn    \n",
              "260                                 Republic of Texas   \n",
              "6555                                          Glasgow   \n",
              "5225      828/704(Soufside)/while looking goofy in NJ   \n",
              "3494                                         New York   \n",
              "2152                                  the void, U.S.A   \n",
              "330                                        California   \n",
              "5757                                  Los Angeles, CA   \n",
              "6172                                       they/them    \n",
              "5299                                  Los Angeles, CA   \n",
              "3179                                           Nagpur   \n",
              "6250                               Neath, South Wales   \n",
              "1207                                         Ziam af    \n",
              "1509                                     New York, NY   \n",
              "7287                                         NEPA/570   \n",
              "2834                                    San Francisco   \n",
              "4311                                 Denver, Colorado   \n",
              "4625                                        Louisiana   \n",
              "7036                   Santiago,RepÌ¼blica Dominicana   \n",
              "997                                           Cloud 9   \n",
              "2356                                  Funtua, Nigeria   \n",
              "5163                                              EIC   \n",
              "7189                              Halifax, NS, Canada   \n",
              "2156                                        Blackpool   \n",
              "4398                                    Athens,Greece   \n",
              "2649                                      Paname City   \n",
              "2420                   Washington DC / Nantes, France   \n",
              "344                                  #FLIGHTCITY UK     \n",
              "3568                                        Tampa, FL   \n",
              "7032                                    Unites States   \n",
              "5140                                           Warsaw   \n",
              "6848  LOCAL ATLANTA NEWS 4/28/00 - 4/28/15 FREELANCER   \n",
              "2677                                     New York, NY   \n",
              "67                                             CLVLND   \n",
              "4430                         Roaming around the world   \n",
              "7168                               We're All Mad Here   \n",
              "2650                                Winston-Salem, NC   \n",
              "886                                          Malaysia   \n",
              "4883                                    St. Louis, Mo   \n",
              "2299                                             NYHC   \n",
              "413                                           Atlanta   \n",
              "\n",
              "                   location_lower_without_space  \n",
              "7266                                      world  \n",
              "3388                                 tri-cities  \n",
              "3084                                   michigan  \n",
              "2745                                   columbus  \n",
              "772                                    brooklyn  \n",
              "4539                                  worldwide  \n",
              "3536                                    orlando  \n",
              "921                                    oklahoma  \n",
              "3400                       london/berlin/online  \n",
              "6536                                     auburn  \n",
              "260                             republicoftexas  \n",
              "6555                                    glasgow  \n",
              "5225    828/704(soufside)/whilelookinggoofyinnj  \n",
              "3494                                    newyork  \n",
              "2152                                    thevoid  \n",
              "330                                  california  \n",
              "5757                                 losangeles  \n",
              "6172                                  they/them  \n",
              "5299                                 losangeles  \n",
              "3179                                     nagpur  \n",
              "6250                                      neath  \n",
              "1207                                     ziamaf  \n",
              "1509                                    newyork  \n",
              "7287                                   nepa/570  \n",
              "2834                               sanfrancisco  \n",
              "4311                                     denver  \n",
              "4625                                  louisiana  \n",
              "7036                                   santiago  \n",
              "997                                      cloud9  \n",
              "2356                                     funtua  \n",
              "5163                                        eic  \n",
              "7189                                    halifax  \n",
              "2156                                  blackpool  \n",
              "4398                                     athens  \n",
              "2649                                 panamecity  \n",
              "2420                        washingtondc/nantes  \n",
              "344                               #flightcityuk  \n",
              "3568                                      tampa  \n",
              "7032                               unitesstates  \n",
              "5140                                     warsaw  \n",
              "6848  localatlantanews4/28/00-4/28/15freelancer  \n",
              "2677                                    newyork  \n",
              "67                                       clvlnd  \n",
              "4430                      roamingaroundtheworld  \n",
              "7168                            we'reallmadhere  \n",
              "2650                              winston-salem  \n",
              "886                                    malaysia  \n",
              "4883                                   st.louis  \n",
              "2299                                       nyhc  \n",
              "413                                     atlanta  "
            ]
          },
          "execution_count": 107,
          "metadata": {},
          "output_type": "execute_result"
        }
      ],
      "source": [
        "df[df[\"location\"] != df[\"location_lower_without_space\"]][['location', 'location_lower_without_space']].sample(50)"
      ]
    },
    {
      "cell_type": "markdown",
      "id": "79a244de",
      "metadata": {
        "id": "79a244de"
      },
      "source": [
        "### 1-2. 看看這些preprocessing 是否有成功減少資料維度"
      ]
    },
    {
      "cell_type": "code",
      "execution_count": null,
      "id": "41524c91",
      "metadata": {
        "id": "41524c91",
        "outputId": "ff0f29a9-e352-4145-b859-a66160381434"
      },
      "outputs": [
        {
          "data": {
            "text/plain": [
              "222"
            ]
          },
          "execution_count": 61,
          "metadata": {},
          "output_type": "execute_result"
        }
      ],
      "source": [
        "len(df['keyword'].unique())"
      ]
    },
    {
      "cell_type": "code",
      "execution_count": null,
      "id": "b4622e9e",
      "metadata": {
        "id": "b4622e9e",
        "outputId": "91163fd6-386a-41d5-ff12-a78c2473b126"
      },
      "outputs": [
        {
          "data": {
            "text/plain": [
              "179"
            ]
          },
          "execution_count": 62,
          "metadata": {},
          "output_type": "execute_result"
        }
      ],
      "source": [
        "len(df[\"keyword_lemma\"].unique())"
      ]
    },
    {
      "cell_type": "code",
      "execution_count": null,
      "id": "a5074d70",
      "metadata": {
        "id": "a5074d70",
        "outputId": "090c5576-dc87-4a9c-aa34-a1e23ac9eb41"
      },
      "outputs": [
        {
          "data": {
            "text/plain": [
              "3342"
            ]
          },
          "execution_count": 63,
          "metadata": {},
          "output_type": "execute_result"
        }
      ],
      "source": [
        "len(df['location'].unique())"
      ]
    },
    {
      "cell_type": "code",
      "execution_count": null,
      "id": "56eaa994",
      "metadata": {
        "id": "56eaa994",
        "outputId": "12057683-6991-4446-d3cf-4c7f17691a45"
      },
      "outputs": [
        {
          "data": {
            "text/plain": [
              "2866"
            ]
          },
          "execution_count": 64,
          "metadata": {},
          "output_type": "execute_result"
        }
      ],
      "source": [
        "len(df['location_prefix'].unique())"
      ]
    },
    {
      "cell_type": "code",
      "execution_count": null,
      "id": "8f22ba6e",
      "metadata": {
        "id": "8f22ba6e",
        "outputId": "cbcca3c0-f218-40ab-c596-c55fb2143179"
      },
      "outputs": [
        {
          "data": {
            "text/plain": [
              "2728"
            ]
          },
          "execution_count": 65,
          "metadata": {},
          "output_type": "execute_result"
        }
      ],
      "source": [
        "len(df['location_lower_without_space'].unique())"
      ]
    },
    {
      "cell_type": "markdown",
      "id": "53ea763a",
      "metadata": {
        "id": "53ea763a"
      },
      "source": [
        "### 2. 開始實驗"
      ]
    },
    {
      "cell_type": "code",
      "execution_count": null,
      "id": "ce88de99",
      "metadata": {
        "id": "ce88de99"
      },
      "outputs": [],
      "source": [
        "from sklearn.feature_extraction import DictVectorizer"
      ]
    },
    {
      "cell_type": "code",
      "execution_count": null,
      "id": "7799fee6",
      "metadata": {
        "id": "7799fee6"
      },
      "outputs": [],
      "source": [
        "from sklearn.model_selection import cross_val_score\n",
        "from sklearn.tree import DecisionTreeClassifier\n",
        "from sklearn.svm import SVC\n",
        "import numpy as np\n",
        "def shuffled_data(a, b):\n",
        "    assert len(a) == len(b)\n",
        "    p = np.random.permutation(len(a))\n",
        "    return a[p], b[p]\n",
        "\n",
        "clf = DecisionTreeClassifier(random_state=0)\n",
        "svc_clf = SVC()"
      ]
    },
    {
      "cell_type": "code",
      "execution_count": null,
      "id": "db3a733e",
      "metadata": {
        "id": "db3a733e"
      },
      "outputs": [],
      "source": [
        "raw_vec = DictVectorizer()\n",
        "kl_dict = df[['keyword', 'location']].to_dict(orient = 'record')\n",
        "kl_vector = raw_vec.fit_transform(kl_dict).toarray()\n",
        "raw_x, raw_y = shuffled_data(kl_vector, df.target.to_numpy())"
      ]
    },
    {
      "cell_type": "code",
      "execution_count": null,
      "id": "30cf0b37",
      "metadata": {
        "id": "30cf0b37"
      },
      "outputs": [],
      "source": [
        "raw_dt_scores = cross_val_score(clf, raw_x, raw_y, cv=5, n_jobs = -1)"
      ]
    },
    {
      "cell_type": "code",
      "execution_count": null,
      "id": "2811cf33",
      "metadata": {
        "id": "2811cf33",
        "outputId": "2971f8a0-6173-4808-edf8-b2ccfede09e6"
      },
      "outputs": [
        {
          "data": {
            "text/plain": [
              "0.7161438753825486"
            ]
          },
          "execution_count": 73,
          "metadata": {},
          "output_type": "execute_result"
        }
      ],
      "source": [
        "raw_dt_scores.mean()"
      ]
    },
    {
      "cell_type": "code",
      "execution_count": null,
      "id": "9d933b0f",
      "metadata": {
        "id": "9d933b0f",
        "outputId": "de11ad73-e3ec-4ec8-f4d9-1d04342b7945"
      },
      "outputs": [
        {
          "name": "stderr",
          "output_type": "stream",
          "text": [
            "/Users/gary/opt/anaconda3/envs/interview/lib/python3.6/site-packages/pandas/core/frame.py:1490: FutureWarning: Using short name for 'orient' is deprecated. Only the options: ('dict', list, 'series', 'split', 'records', 'index') will be used in a future version. Use one of the above to silence this warning.\n",
            "  FutureWarning,\n"
          ]
        }
      ],
      "source": [
        "lemma_vec = DictVectorizer()\n",
        "klemma_dict = df[['keyword_lemma', 'location']].to_dict(orient = 'record')\n",
        "klemma_vector = lemma_vec.fit_transform(klemma_dict).toarray()\n",
        "lemma_x, lemma_y = shuffled_data(klemma_vector, df.target.to_numpy())"
      ]
    },
    {
      "cell_type": "code",
      "execution_count": null,
      "id": "e1ee3d0c",
      "metadata": {
        "id": "e1ee3d0c"
      },
      "outputs": [],
      "source": [
        "lemma_dt_scores = cross_val_score(clf, lemma_x, lemma_y, cv=5, n_jobs = -1)"
      ]
    },
    {
      "cell_type": "code",
      "execution_count": null,
      "id": "1f76120c",
      "metadata": {
        "id": "1f76120c",
        "outputId": "db2110ba-ac14-4969-c3ab-27ca95764124"
      },
      "outputs": [
        {
          "data": {
            "text/plain": [
              "0.7135144602731831"
            ]
          },
          "execution_count": 78,
          "metadata": {},
          "output_type": "execute_result"
        }
      ],
      "source": [
        "lemma_dt_scores.mean()"
      ]
    },
    {
      "cell_type": "code",
      "execution_count": null,
      "id": "c0ae5ca8",
      "metadata": {
        "id": "c0ae5ca8",
        "outputId": "f4d7db77-5f35-4d14-d0e5-915f85117197"
      },
      "outputs": [
        {
          "name": "stderr",
          "output_type": "stream",
          "text": [
            "/Users/gary/opt/anaconda3/envs/interview/lib/python3.6/site-packages/pandas/core/frame.py:1490: FutureWarning: Using short name for 'orient' is deprecated. Only the options: ('dict', list, 'series', 'split', 'records', 'index') will be used in a future version. Use one of the above to silence this warning.\n",
            "  FutureWarning,\n"
          ]
        }
      ],
      "source": [
        "prefix_vec = DictVectorizer()\n",
        "lprefix_dict = df[['keyword', 'location_prefix']].to_dict(orient = 'record')\n",
        "lprefix_vector = prefix_vec.fit_transform(lprefix_dict).toarray()\n",
        "lprefix_x, lprefix_y = shuffled_data(lprefix_vector, df.target.to_numpy())"
      ]
    },
    {
      "cell_type": "code",
      "execution_count": null,
      "id": "df26dbcf",
      "metadata": {
        "id": "df26dbcf"
      },
      "outputs": [],
      "source": [
        "lprefix_dt_scores = cross_val_score(clf, lprefix_x, lprefix_y, cv=5, n_jobs = -1)"
      ]
    },
    {
      "cell_type": "code",
      "execution_count": null,
      "id": "463afe40",
      "metadata": {
        "id": "463afe40",
        "outputId": "a77a61ea-f2bb-4e4e-921b-01f3c5b88f24"
      },
      "outputs": [
        {
          "data": {
            "text/plain": [
              "0.7179809715764326"
            ]
          },
          "execution_count": 82,
          "metadata": {},
          "output_type": "execute_result"
        }
      ],
      "source": [
        "lprefix_dt_scores.mean()"
      ]
    },
    {
      "cell_type": "code",
      "execution_count": null,
      "id": "5a63c31e",
      "metadata": {
        "id": "5a63c31e",
        "outputId": "2a8da0dd-904a-4513-affd-da8ec438346c"
      },
      "outputs": [
        {
          "name": "stderr",
          "output_type": "stream",
          "text": [
            "/Users/gary/opt/anaconda3/envs/interview/lib/python3.6/site-packages/pandas/core/frame.py:1490: FutureWarning: Using short name for 'orient' is deprecated. Only the options: ('dict', list, 'series', 'split', 'records', 'index') will be used in a future version. Use one of the above to silence this warning.\n",
            "  FutureWarning,\n"
          ]
        }
      ],
      "source": [
        "llowerws_vec = DictVectorizer()\n",
        "llowerws_dict = df[['keyword', 'location_lower_without_space']].to_dict(orient = 'record')\n",
        "llowerws_vector = llowerws_vec.fit_transform(llowerws_dict).toarray()\n",
        "llowerws_x, llowerws_y = shuffled_data(llowerws_vector, df.target.to_numpy())"
      ]
    },
    {
      "cell_type": "code",
      "execution_count": null,
      "id": "84bc29f2",
      "metadata": {
        "id": "84bc29f2"
      },
      "outputs": [],
      "source": [
        "llowerws_dt_scores = cross_val_score(clf, llowerws_x, llowerws_y, cv=5, n_jobs = -1)"
      ]
    },
    {
      "cell_type": "code",
      "execution_count": null,
      "id": "d1eac0b1",
      "metadata": {
        "id": "d1eac0b1",
        "outputId": "e351f73a-4b8d-4d05-dd2d-c77092adcb8d"
      },
      "outputs": [
        {
          "data": {
            "text/plain": [
              "0.714566312597983"
            ]
          },
          "execution_count": 86,
          "metadata": {},
          "output_type": "execute_result"
        }
      ],
      "source": [
        "llowerws_dt_scores.mean()"
      ]
    },
    {
      "cell_type": "code",
      "execution_count": null,
      "id": "e86806aa",
      "metadata": {
        "id": "e86806aa"
      },
      "outputs": [],
      "source": [
        "lprefix_svc_scores = cross_val_score(svc_clf, lprefix_x, lprefix_y, cv=5, n_jobs = -1)"
      ]
    },
    {
      "cell_type": "code",
      "execution_count": null,
      "id": "6c7a57ef",
      "metadata": {
        "id": "6c7a57ef",
        "outputId": "2b0f35dc-705d-4738-9cb8-1ad53e633ec3"
      },
      "outputs": [
        {
          "data": {
            "text/plain": [
              "0.7346636721388987"
            ]
          },
          "execution_count": 89,
          "metadata": {},
          "output_type": "execute_result"
        }
      ],
      "source": [
        "lprefix_svc_scores.mean()"
      ]
    },
    {
      "cell_type": "markdown",
      "source": [
        "### 小結\n",
        "- Model: SVC\n",
        "- Preprocessing step:\n",
        "  - Remove URL encode from keyword\n",
        "  - Remove Nation/States from Location\n",
        "- Performance: 73.46%"
      ],
      "metadata": {
        "id": "IjgYgoWwlcY-"
      },
      "id": "IjgYgoWwlcY-"
    }
  ],
  "metadata": {
    "kernelspec": {
      "display_name": "Python 3",
      "language": "python",
      "name": "python3"
    },
    "language_info": {
      "codemirror_mode": {
        "name": "ipython",
        "version": 3
      },
      "file_extension": ".py",
      "mimetype": "text/x-python",
      "name": "python",
      "nbconvert_exporter": "python",
      "pygments_lexer": "ipython3",
      "version": "3.6.9"
    },
    "colab": {
      "name": "foxconn_interview.ipynb",
      "provenance": []
    }
  },
  "nbformat": 4,
  "nbformat_minor": 5
}